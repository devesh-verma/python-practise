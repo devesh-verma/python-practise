{
 "cells": [
  {
   "cell_type": "markdown",
   "metadata": {},
   "source": [
    "## Principle of Mathematical Induction\n",
    "\n",
    "- By definition it say `Σn = (n(n+1))/2`\n",
    "\n",
    "- Lets suppose we want to prove a statement. That is `f is true for all natural numbers`\n",
    "<p>&nbsp;</p>\n",
    "- Using PMI \n",
    "    - Step 1: Prove f(0) or f(1) is true => This is our base case.\n",
    "    - Step 2: Using induction hypothesis we assume that `f(k) is true`.\n",
    "    - Step 3: Using the induction we need to prove `f(k+1) is true`.\n",
    "<p>&nbsp;</p>\n",
    "- PROVING MATHEMATICALLY    \n",
    "    - Step 1:      \n",
    "        - LHS  => \\begin{equation*} \\left( \\sum_{1} \\right) = 1 \\end{equation*}\n",
    "        - RHS  => \\begin{equation*} \\frac{1(1+1)}{2} = 1 \\end{equation*}\n",
    "        - therefore LHS = RHS\n",
    "\n",
    "    - STEP 2:\n",
    "        - We assume that \n",
    "        - \\begin{equation*}\n",
    "          \\left( \\sum_{k} \\right) = \\frac{k( k + 1)}{2}\n",
    "          \\end{equation*}\n",
    "\n",
    "    - STEP 3: \n",
    "        - Using the induction we need to prove\n",
    "          \\begin{equation*}\n",
    "          \\left( \\sum_{k+1} \\right) = \\frac{(k+1)(k+1+1)}{(2)}\n",
    "          \\end{equation*}\n",
    "        - Which is same as:\n",
    "          \\begin{equation*}\n",
    "          \\left( \\sum_{k+1} \\right) = \\frac{(k+1)(k+2)}{(2)}\n",
    "          \\end{equation*}      \n",
    "        - To prove LHS = RHS:\n",
    "            - Since we know that: \n",
    "                `Sum of first K+1 natural numbers = sum of first K natural numbers + K+1`\n",
    "            - Therefore:\n",
    "              \\begin{equation*}\n",
    "              \\left( \\sum_{k+1} \\right) = \\left( \\sum_{k} \\right) + ( k + 1)\n",
    "              \\end{equation*}\n",
    "            - From step 2\n",
    "              \\begin{equation*}\n",
    "              \\left( \\sum_{k+1} \\right) = \\frac{k(k+1)}{2} + (k+1)\n",
    "              \\end{equation*}\n",
    "            - Multiplying and dividing by 2\n",
    "              \\begin{equation*}\n",
    "              \\left( \\sum_{k+1} \\right) = \\frac{k(k+1)}{2} + \\frac{2(k+1)}{2}\n",
    "              \\end{equation*}\n",
    "            - Taking common (k+1)/2\n",
    "              \\begin{equation*}\n",
    "              \\left( \\sum_{k+1} \\right) = \\frac{(k+1)}{2} (k+2)\n",
    "              \\end{equation*}\n",
    "            - Therefore LHS = RHS\n",
    "              \\begin{equation*}\n",
    "              \\frac{(k+1)(k+2)}{(2)} = \\frac{(k+1)(k+2)}{(2)}\\\n",
    "              \\end{equation*}        "
   ]
  },
  {
   "cell_type": "markdown",
   "metadata": {},
   "source": [
    "### Similarly in Recursion\n",
    "- STEP 1: fact(0) => Base case.\n",
    "- STEP 2: fact(n-1) => Assuming this will work.\n",
    "- STEP 3: fact(n) => If step 2 works then this will definitely work."
   ]
  },
  {
   "cell_type": "code",
   "execution_count": null,
   "metadata": {},
   "outputs": [],
   "source": [
    "  "
   ]
  }
 ],
 "metadata": {
  "kernelspec": {
   "display_name": "Python 3",
   "language": "python",
   "name": "python3"
  },
  "language_info": {
   "codemirror_mode": {
    "name": "ipython",
    "version": 3
   },
   "file_extension": ".py",
   "mimetype": "text/x-python",
   "name": "python",
   "nbconvert_exporter": "python",
   "pygments_lexer": "ipython3",
   "version": "3.7.0"
  }
 },
 "nbformat": 4,
 "nbformat_minor": 2
}
